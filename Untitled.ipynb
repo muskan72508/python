{
 "cells": [
  {
   "cell_type": "code",
   "execution_count": null,
   "id": "32f9c98f-0230-490b-a9cf-c0f38a1650c8",
   "metadata": {},
   "outputs": [],
   "source": []
  }
 ],
 "metadata": {
  "kernelspec": {
   "display_name": "",
   "name": ""
  },
  "language_info": {
   "name": ""
  }
 },
 "nbformat": 4,
 "nbformat_minor": 5
}
